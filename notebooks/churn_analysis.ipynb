{
 "cells": [
  {
   "cell_type": "code",
   "execution_count": 1,
   "id": "1a0fb672",
   "metadata": {},
   "outputs": [],
   "source": [
    "import numpy as np \n",
    "import pandas as pd\n",
    "import matplotlib.pyplot as plt\n",
    "import seaborn as sns\n",
    "\n",
    "from sklearn.model_selection import train_test_split, GridSearchCV\n",
    "from sklearn.preprocessing import StandardScaler\n",
    "from sklearn.decomposition import PCA\n",
    "from sklearn.cluster import KMeans\n",
    "from sklearn.metrics import silhouette_score, classification_report, confusion_matrix, roc_auc_score, roc_curve , accuracy_score, precision_score ,recall_score , f1_score\n",
    "\n",
    "from sklearn.linear_model import LogisticRegression\n",
    "from sklearn.ensemble import RandomForestClassifier\n",
    "\n",
    "import warnings\n",
    "warnings.filterwarnings(\"ignore\", category=DeprecationWarning)\n",
    "\n"
   ]
  },
  {
   "cell_type": "code",
   "execution_count": 2,
   "id": "535c6a3f",
   "metadata": {},
   "outputs": [
    {
     "data": {
      "text/html": [
       "<div>\n",
       "<style scoped>\n",
       "    .dataframe tbody tr th:only-of-type {\n",
       "        vertical-align: middle;\n",
       "    }\n",
       "\n",
       "    .dataframe tbody tr th {\n",
       "        vertical-align: top;\n",
       "    }\n",
       "\n",
       "    .dataframe thead th {\n",
       "        text-align: right;\n",
       "    }\n",
       "</style>\n",
       "<table border=\"1\" class=\"dataframe\">\n",
       "  <thead>\n",
       "    <tr style=\"text-align: right;\">\n",
       "      <th></th>\n",
       "      <th>id</th>\n",
       "      <th>is_tv_subscriber</th>\n",
       "      <th>is_movie_package_subscriber</th>\n",
       "      <th>subscription_age</th>\n",
       "      <th>bill_avg</th>\n",
       "      <th>reamining_contract</th>\n",
       "      <th>service_failure_count</th>\n",
       "      <th>download_avg</th>\n",
       "      <th>upload_avg</th>\n",
       "      <th>download_over_limit</th>\n",
       "      <th>churn</th>\n",
       "    </tr>\n",
       "  </thead>\n",
       "  <tbody>\n",
       "    <tr>\n",
       "      <th>0</th>\n",
       "      <td>15</td>\n",
       "      <td>1</td>\n",
       "      <td>0</td>\n",
       "      <td>11.95</td>\n",
       "      <td>25</td>\n",
       "      <td>0.14</td>\n",
       "      <td>0</td>\n",
       "      <td>8.4</td>\n",
       "      <td>2.3</td>\n",
       "      <td>0</td>\n",
       "      <td>0</td>\n",
       "    </tr>\n",
       "    <tr>\n",
       "      <th>1</th>\n",
       "      <td>18</td>\n",
       "      <td>0</td>\n",
       "      <td>0</td>\n",
       "      <td>8.22</td>\n",
       "      <td>0</td>\n",
       "      <td>NaN</td>\n",
       "      <td>0</td>\n",
       "      <td>0.0</td>\n",
       "      <td>0.0</td>\n",
       "      <td>0</td>\n",
       "      <td>1</td>\n",
       "    </tr>\n",
       "    <tr>\n",
       "      <th>2</th>\n",
       "      <td>23</td>\n",
       "      <td>1</td>\n",
       "      <td>0</td>\n",
       "      <td>8.91</td>\n",
       "      <td>16</td>\n",
       "      <td>0.00</td>\n",
       "      <td>0</td>\n",
       "      <td>13.7</td>\n",
       "      <td>0.9</td>\n",
       "      <td>0</td>\n",
       "      <td>1</td>\n",
       "    </tr>\n",
       "    <tr>\n",
       "      <th>3</th>\n",
       "      <td>27</td>\n",
       "      <td>0</td>\n",
       "      <td>0</td>\n",
       "      <td>6.87</td>\n",
       "      <td>21</td>\n",
       "      <td>NaN</td>\n",
       "      <td>1</td>\n",
       "      <td>0.0</td>\n",
       "      <td>0.0</td>\n",
       "      <td>0</td>\n",
       "      <td>1</td>\n",
       "    </tr>\n",
       "    <tr>\n",
       "      <th>4</th>\n",
       "      <td>34</td>\n",
       "      <td>0</td>\n",
       "      <td>0</td>\n",
       "      <td>6.39</td>\n",
       "      <td>0</td>\n",
       "      <td>NaN</td>\n",
       "      <td>0</td>\n",
       "      <td>0.0</td>\n",
       "      <td>0.0</td>\n",
       "      <td>0</td>\n",
       "      <td>1</td>\n",
       "    </tr>\n",
       "  </tbody>\n",
       "</table>\n",
       "</div>"
      ],
      "text/plain": [
       "   id  is_tv_subscriber  is_movie_package_subscriber  subscription_age  \\\n",
       "0  15                 1                            0             11.95   \n",
       "1  18                 0                            0              8.22   \n",
       "2  23                 1                            0              8.91   \n",
       "3  27                 0                            0              6.87   \n",
       "4  34                 0                            0              6.39   \n",
       "\n",
       "   bill_avg  reamining_contract  service_failure_count  download_avg  \\\n",
       "0        25                0.14                      0           8.4   \n",
       "1         0                 NaN                      0           0.0   \n",
       "2        16                0.00                      0          13.7   \n",
       "3        21                 NaN                      1           0.0   \n",
       "4         0                 NaN                      0           0.0   \n",
       "\n",
       "   upload_avg  download_over_limit  churn  \n",
       "0         2.3                    0      0  \n",
       "1         0.0                    0      1  \n",
       "2         0.9                    0      1  \n",
       "3         0.0                    0      1  \n",
       "4         0.0                    0      1  "
      ]
     },
     "execution_count": 2,
     "metadata": {},
     "output_type": "execute_result"
    }
   ],
   "source": [
    "df = pd.read_csv(\"../data/internet_service_churn.csv\")\n",
    "df.head()"
   ]
  },
  {
   "cell_type": "code",
   "execution_count": 3,
   "id": "44881b1a",
   "metadata": {},
   "outputs": [
    {
     "data": {
      "text/plain": [
       "(72274, 11)"
      ]
     },
     "execution_count": 3,
     "metadata": {},
     "output_type": "execute_result"
    }
   ],
   "source": [
    "df.shape"
   ]
  },
  {
   "cell_type": "code",
   "execution_count": 4,
   "id": "6eae1e12",
   "metadata": {},
   "outputs": [
    {
     "name": "stdout",
     "output_type": "stream",
     "text": [
      "<class 'pandas.core.frame.DataFrame'>\n",
      "RangeIndex: 72274 entries, 0 to 72273\n",
      "Data columns (total 11 columns):\n",
      " #   Column                       Non-Null Count  Dtype  \n",
      "---  ------                       --------------  -----  \n",
      " 0   id                           72274 non-null  int64  \n",
      " 1   is_tv_subscriber             72274 non-null  int64  \n",
      " 2   is_movie_package_subscriber  72274 non-null  int64  \n",
      " 3   subscription_age             72274 non-null  float64\n",
      " 4   bill_avg                     72274 non-null  int64  \n",
      " 5   reamining_contract           50702 non-null  float64\n",
      " 6   service_failure_count        72274 non-null  int64  \n",
      " 7   download_avg                 71893 non-null  float64\n",
      " 8   upload_avg                   71893 non-null  float64\n",
      " 9   download_over_limit          72274 non-null  int64  \n",
      " 10  churn                        72274 non-null  int64  \n",
      "dtypes: float64(4), int64(7)\n",
      "memory usage: 6.1 MB\n"
     ]
    }
   ],
   "source": [
    "df.info()"
   ]
  },
  {
   "cell_type": "code",
   "execution_count": 5,
   "id": "a96304bf",
   "metadata": {},
   "outputs": [
    {
     "name": "stdout",
     "output_type": "stream",
     "text": [
      "reamining_contract = 0.298%\n",
      "download_avg = 0.005%\n",
      "upload_avg = 0.005%\n"
     ]
    }
   ],
   "source": [
    "\n",
    "for i, n in enumerate(df.isnull().sum()):\n",
    "    if n!=0:\n",
    "        print(f'{df.columns[i]} = {round(n/len(df),3)}%')"
   ]
  },
  {
   "cell_type": "code",
   "execution_count": 6,
   "id": "c29e5094",
   "metadata": {},
   "outputs": [
    {
     "data": {
      "text/plain": [
       "np.int64(0)"
      ]
     },
     "execution_count": 6,
     "metadata": {},
     "output_type": "execute_result"
    }
   ],
   "source": [
    "df.duplicated().sum()"
   ]
  },
  {
   "cell_type": "code",
   "execution_count": 7,
   "id": "c744ed2f",
   "metadata": {},
   "outputs": [
    {
     "data": {
      "text/plain": [
       "id                             72274\n",
       "is_tv_subscriber                   2\n",
       "is_movie_package_subscriber        2\n",
       "subscription_age                1110\n",
       "bill_avg                         179\n",
       "reamining_contract               247\n",
       "service_failure_count             19\n",
       "download_avg                    2856\n",
       "upload_avg                       802\n",
       "download_over_limit                8\n",
       "churn                              2\n",
       "dtype: int64"
      ]
     },
     "execution_count": 7,
     "metadata": {},
     "output_type": "execute_result"
    }
   ],
   "source": [
    "df.nunique()"
   ]
  },
  {
   "cell_type": "code",
   "execution_count": 8,
   "id": "c7b3bdd9",
   "metadata": {},
   "outputs": [
    {
     "data": {
      "text/html": [
       "<div>\n",
       "<style scoped>\n",
       "    .dataframe tbody tr th:only-of-type {\n",
       "        vertical-align: middle;\n",
       "    }\n",
       "\n",
       "    .dataframe tbody tr th {\n",
       "        vertical-align: top;\n",
       "    }\n",
       "\n",
       "    .dataframe thead th {\n",
       "        text-align: right;\n",
       "    }\n",
       "</style>\n",
       "<table border=\"1\" class=\"dataframe\">\n",
       "  <thead>\n",
       "    <tr style=\"text-align: right;\">\n",
       "      <th></th>\n",
       "      <th>count</th>\n",
       "      <th>mean</th>\n",
       "      <th>std</th>\n",
       "      <th>min</th>\n",
       "      <th>25%</th>\n",
       "      <th>50%</th>\n",
       "      <th>75%</th>\n",
       "      <th>max</th>\n",
       "    </tr>\n",
       "  </thead>\n",
       "  <tbody>\n",
       "    <tr>\n",
       "      <th>id</th>\n",
       "      <td>72274.0</td>\n",
       "      <td>846318.243462</td>\n",
       "      <td>489102.168744</td>\n",
       "      <td>15.00</td>\n",
       "      <td>422216.50</td>\n",
       "      <td>847784.00</td>\n",
       "      <td>1269562.00</td>\n",
       "      <td>1689744.00</td>\n",
       "    </tr>\n",
       "    <tr>\n",
       "      <th>is_tv_subscriber</th>\n",
       "      <td>72274.0</td>\n",
       "      <td>0.815259</td>\n",
       "      <td>0.388090</td>\n",
       "      <td>0.00</td>\n",
       "      <td>1.00</td>\n",
       "      <td>1.00</td>\n",
       "      <td>1.00</td>\n",
       "      <td>1.00</td>\n",
       "    </tr>\n",
       "    <tr>\n",
       "      <th>is_movie_package_subscriber</th>\n",
       "      <td>72274.0</td>\n",
       "      <td>0.334629</td>\n",
       "      <td>0.471864</td>\n",
       "      <td>0.00</td>\n",
       "      <td>0.00</td>\n",
       "      <td>0.00</td>\n",
       "      <td>1.00</td>\n",
       "      <td>1.00</td>\n",
       "    </tr>\n",
       "    <tr>\n",
       "      <th>subscription_age</th>\n",
       "      <td>72274.0</td>\n",
       "      <td>2.450051</td>\n",
       "      <td>2.034990</td>\n",
       "      <td>-0.02</td>\n",
       "      <td>0.93</td>\n",
       "      <td>1.98</td>\n",
       "      <td>3.30</td>\n",
       "      <td>12.80</td>\n",
       "    </tr>\n",
       "    <tr>\n",
       "      <th>bill_avg</th>\n",
       "      <td>72274.0</td>\n",
       "      <td>18.942483</td>\n",
       "      <td>13.215386</td>\n",
       "      <td>0.00</td>\n",
       "      <td>13.00</td>\n",
       "      <td>19.00</td>\n",
       "      <td>22.00</td>\n",
       "      <td>406.00</td>\n",
       "    </tr>\n",
       "    <tr>\n",
       "      <th>reamining_contract</th>\n",
       "      <td>50702.0</td>\n",
       "      <td>0.716039</td>\n",
       "      <td>0.697102</td>\n",
       "      <td>0.00</td>\n",
       "      <td>0.00</td>\n",
       "      <td>0.57</td>\n",
       "      <td>1.31</td>\n",
       "      <td>2.92</td>\n",
       "    </tr>\n",
       "    <tr>\n",
       "      <th>service_failure_count</th>\n",
       "      <td>72274.0</td>\n",
       "      <td>0.274234</td>\n",
       "      <td>0.816621</td>\n",
       "      <td>0.00</td>\n",
       "      <td>0.00</td>\n",
       "      <td>0.00</td>\n",
       "      <td>0.00</td>\n",
       "      <td>19.00</td>\n",
       "    </tr>\n",
       "    <tr>\n",
       "      <th>download_avg</th>\n",
       "      <td>71893.0</td>\n",
       "      <td>43.689911</td>\n",
       "      <td>63.405963</td>\n",
       "      <td>0.00</td>\n",
       "      <td>6.70</td>\n",
       "      <td>27.80</td>\n",
       "      <td>60.50</td>\n",
       "      <td>4415.20</td>\n",
       "    </tr>\n",
       "    <tr>\n",
       "      <th>upload_avg</th>\n",
       "      <td>71893.0</td>\n",
       "      <td>4.192076</td>\n",
       "      <td>9.818896</td>\n",
       "      <td>0.00</td>\n",
       "      <td>0.50</td>\n",
       "      <td>2.10</td>\n",
       "      <td>4.80</td>\n",
       "      <td>453.30</td>\n",
       "    </tr>\n",
       "    <tr>\n",
       "      <th>download_over_limit</th>\n",
       "      <td>72274.0</td>\n",
       "      <td>0.207613</td>\n",
       "      <td>0.997123</td>\n",
       "      <td>0.00</td>\n",
       "      <td>0.00</td>\n",
       "      <td>0.00</td>\n",
       "      <td>0.00</td>\n",
       "      <td>7.00</td>\n",
       "    </tr>\n",
       "    <tr>\n",
       "      <th>churn</th>\n",
       "      <td>72274.0</td>\n",
       "      <td>0.554141</td>\n",
       "      <td>0.497064</td>\n",
       "      <td>0.00</td>\n",
       "      <td>0.00</td>\n",
       "      <td>1.00</td>\n",
       "      <td>1.00</td>\n",
       "      <td>1.00</td>\n",
       "    </tr>\n",
       "  </tbody>\n",
       "</table>\n",
       "</div>"
      ],
      "text/plain": [
       "                               count           mean            std    min  \\\n",
       "id                           72274.0  846318.243462  489102.168744  15.00   \n",
       "is_tv_subscriber             72274.0       0.815259       0.388090   0.00   \n",
       "is_movie_package_subscriber  72274.0       0.334629       0.471864   0.00   \n",
       "subscription_age             72274.0       2.450051       2.034990  -0.02   \n",
       "bill_avg                     72274.0      18.942483      13.215386   0.00   \n",
       "reamining_contract           50702.0       0.716039       0.697102   0.00   \n",
       "service_failure_count        72274.0       0.274234       0.816621   0.00   \n",
       "download_avg                 71893.0      43.689911      63.405963   0.00   \n",
       "upload_avg                   71893.0       4.192076       9.818896   0.00   \n",
       "download_over_limit          72274.0       0.207613       0.997123   0.00   \n",
       "churn                        72274.0       0.554141       0.497064   0.00   \n",
       "\n",
       "                                   25%        50%         75%         max  \n",
       "id                           422216.50  847784.00  1269562.00  1689744.00  \n",
       "is_tv_subscriber                  1.00       1.00        1.00        1.00  \n",
       "is_movie_package_subscriber       0.00       0.00        1.00        1.00  \n",
       "subscription_age                  0.93       1.98        3.30       12.80  \n",
       "bill_avg                         13.00      19.00       22.00      406.00  \n",
       "reamining_contract                0.00       0.57        1.31        2.92  \n",
       "service_failure_count             0.00       0.00        0.00       19.00  \n",
       "download_avg                      6.70      27.80       60.50     4415.20  \n",
       "upload_avg                        0.50       2.10        4.80      453.30  \n",
       "download_over_limit               0.00       0.00        0.00        7.00  \n",
       "churn                             0.00       1.00        1.00        1.00  "
      ]
     },
     "execution_count": 8,
     "metadata": {},
     "output_type": "execute_result"
    }
   ],
   "source": [
    "df.describe().T"
   ]
  },
  {
   "cell_type": "code",
   "execution_count": 9,
   "id": "88830ca0",
   "metadata": {},
   "outputs": [
    {
     "data": {
      "text/plain": [
       "churn\n",
       "1    0.554141\n",
       "0    0.445859\n",
       "Name: proportion, dtype: float64"
      ]
     },
     "execution_count": 9,
     "metadata": {},
     "output_type": "execute_result"
    }
   ],
   "source": [
    "df['churn'].value_counts(normalize=True)"
   ]
  },
  {
   "cell_type": "code",
   "execution_count": 10,
   "id": "796324c1",
   "metadata": {},
   "outputs": [
    {
     "name": "stdout",
     "output_type": "stream",
     "text": [
      "(381, 11)\n"
     ]
    },
    {
     "data": {
      "text/html": [
       "<div>\n",
       "<style scoped>\n",
       "    .dataframe tbody tr th:only-of-type {\n",
       "        vertical-align: middle;\n",
       "    }\n",
       "\n",
       "    .dataframe tbody tr th {\n",
       "        vertical-align: top;\n",
       "    }\n",
       "\n",
       "    .dataframe thead th {\n",
       "        text-align: right;\n",
       "    }\n",
       "</style>\n",
       "<table border=\"1\" class=\"dataframe\">\n",
       "  <thead>\n",
       "    <tr style=\"text-align: right;\">\n",
       "      <th></th>\n",
       "      <th>id</th>\n",
       "      <th>is_tv_subscriber</th>\n",
       "      <th>is_movie_package_subscriber</th>\n",
       "      <th>subscription_age</th>\n",
       "      <th>bill_avg</th>\n",
       "      <th>reamining_contract</th>\n",
       "      <th>service_failure_count</th>\n",
       "      <th>download_avg</th>\n",
       "      <th>upload_avg</th>\n",
       "      <th>download_over_limit</th>\n",
       "      <th>churn</th>\n",
       "    </tr>\n",
       "  </thead>\n",
       "  <tbody>\n",
       "    <tr>\n",
       "      <th>25</th>\n",
       "      <td>617</td>\n",
       "      <td>0</td>\n",
       "      <td>0</td>\n",
       "      <td>11.93</td>\n",
       "      <td>21</td>\n",
       "      <td>NaN</td>\n",
       "      <td>0</td>\n",
       "      <td>NaN</td>\n",
       "      <td>NaN</td>\n",
       "      <td>0</td>\n",
       "      <td>0</td>\n",
       "    </tr>\n",
       "    <tr>\n",
       "      <th>52</th>\n",
       "      <td>1151</td>\n",
       "      <td>0</td>\n",
       "      <td>0</td>\n",
       "      <td>11.93</td>\n",
       "      <td>24</td>\n",
       "      <td>NaN</td>\n",
       "      <td>0</td>\n",
       "      <td>NaN</td>\n",
       "      <td>NaN</td>\n",
       "      <td>0</td>\n",
       "      <td>0</td>\n",
       "    </tr>\n",
       "    <tr>\n",
       "      <th>54</th>\n",
       "      <td>1169</td>\n",
       "      <td>1</td>\n",
       "      <td>1</td>\n",
       "      <td>11.93</td>\n",
       "      <td>24</td>\n",
       "      <td>NaN</td>\n",
       "      <td>0</td>\n",
       "      <td>NaN</td>\n",
       "      <td>NaN</td>\n",
       "      <td>0</td>\n",
       "      <td>0</td>\n",
       "    </tr>\n",
       "    <tr>\n",
       "      <th>63</th>\n",
       "      <td>1413</td>\n",
       "      <td>0</td>\n",
       "      <td>0</td>\n",
       "      <td>11.93</td>\n",
       "      <td>24</td>\n",
       "      <td>NaN</td>\n",
       "      <td>0</td>\n",
       "      <td>NaN</td>\n",
       "      <td>NaN</td>\n",
       "      <td>0</td>\n",
       "      <td>0</td>\n",
       "    </tr>\n",
       "    <tr>\n",
       "      <th>85</th>\n",
       "      <td>1805</td>\n",
       "      <td>0</td>\n",
       "      <td>0</td>\n",
       "      <td>11.93</td>\n",
       "      <td>24</td>\n",
       "      <td>NaN</td>\n",
       "      <td>0</td>\n",
       "      <td>NaN</td>\n",
       "      <td>NaN</td>\n",
       "      <td>0</td>\n",
       "      <td>0</td>\n",
       "    </tr>\n",
       "    <tr>\n",
       "      <th>...</th>\n",
       "      <td>...</td>\n",
       "      <td>...</td>\n",
       "      <td>...</td>\n",
       "      <td>...</td>\n",
       "      <td>...</td>\n",
       "      <td>...</td>\n",
       "      <td>...</td>\n",
       "      <td>...</td>\n",
       "      <td>...</td>\n",
       "      <td>...</td>\n",
       "      <td>...</td>\n",
       "    </tr>\n",
       "    <tr>\n",
       "      <th>71835</th>\n",
       "      <td>1680161</td>\n",
       "      <td>1</td>\n",
       "      <td>0</td>\n",
       "      <td>0.00</td>\n",
       "      <td>0</td>\n",
       "      <td>1.87</td>\n",
       "      <td>0</td>\n",
       "      <td>NaN</td>\n",
       "      <td>NaN</td>\n",
       "      <td>0</td>\n",
       "      <td>0</td>\n",
       "    </tr>\n",
       "    <tr>\n",
       "      <th>71836</th>\n",
       "      <td>1680174</td>\n",
       "      <td>1</td>\n",
       "      <td>1</td>\n",
       "      <td>0.00</td>\n",
       "      <td>0</td>\n",
       "      <td>1.97</td>\n",
       "      <td>0</td>\n",
       "      <td>NaN</td>\n",
       "      <td>NaN</td>\n",
       "      <td>0</td>\n",
       "      <td>0</td>\n",
       "    </tr>\n",
       "    <tr>\n",
       "      <th>71837</th>\n",
       "      <td>1680212</td>\n",
       "      <td>1</td>\n",
       "      <td>1</td>\n",
       "      <td>0.00</td>\n",
       "      <td>0</td>\n",
       "      <td>1.97</td>\n",
       "      <td>0</td>\n",
       "      <td>NaN</td>\n",
       "      <td>NaN</td>\n",
       "      <td>0</td>\n",
       "      <td>0</td>\n",
       "    </tr>\n",
       "    <tr>\n",
       "      <th>71838</th>\n",
       "      <td>1680257</td>\n",
       "      <td>1</td>\n",
       "      <td>1</td>\n",
       "      <td>0.00</td>\n",
       "      <td>0</td>\n",
       "      <td>1.97</td>\n",
       "      <td>0</td>\n",
       "      <td>NaN</td>\n",
       "      <td>NaN</td>\n",
       "      <td>0</td>\n",
       "      <td>0</td>\n",
       "    </tr>\n",
       "    <tr>\n",
       "      <th>71839</th>\n",
       "      <td>1680282</td>\n",
       "      <td>1</td>\n",
       "      <td>1</td>\n",
       "      <td>0.00</td>\n",
       "      <td>0</td>\n",
       "      <td>0.78</td>\n",
       "      <td>0</td>\n",
       "      <td>NaN</td>\n",
       "      <td>NaN</td>\n",
       "      <td>0</td>\n",
       "      <td>0</td>\n",
       "    </tr>\n",
       "  </tbody>\n",
       "</table>\n",
       "<p>381 rows × 11 columns</p>\n",
       "</div>"
      ],
      "text/plain": [
       "            id  is_tv_subscriber  is_movie_package_subscriber  \\\n",
       "25         617                 0                            0   \n",
       "52        1151                 0                            0   \n",
       "54        1169                 1                            1   \n",
       "63        1413                 0                            0   \n",
       "85        1805                 0                            0   \n",
       "...        ...               ...                          ...   \n",
       "71835  1680161                 1                            0   \n",
       "71836  1680174                 1                            1   \n",
       "71837  1680212                 1                            1   \n",
       "71838  1680257                 1                            1   \n",
       "71839  1680282                 1                            1   \n",
       "\n",
       "       subscription_age  bill_avg  reamining_contract  service_failure_count  \\\n",
       "25                11.93        21                 NaN                      0   \n",
       "52                11.93        24                 NaN                      0   \n",
       "54                11.93        24                 NaN                      0   \n",
       "63                11.93        24                 NaN                      0   \n",
       "85                11.93        24                 NaN                      0   \n",
       "...                 ...       ...                 ...                    ...   \n",
       "71835              0.00         0                1.87                      0   \n",
       "71836              0.00         0                1.97                      0   \n",
       "71837              0.00         0                1.97                      0   \n",
       "71838              0.00         0                1.97                      0   \n",
       "71839              0.00         0                0.78                      0   \n",
       "\n",
       "       download_avg  upload_avg  download_over_limit  churn  \n",
       "25              NaN         NaN                    0      0  \n",
       "52              NaN         NaN                    0      0  \n",
       "54              NaN         NaN                    0      0  \n",
       "63              NaN         NaN                    0      0  \n",
       "85              NaN         NaN                    0      0  \n",
       "...             ...         ...                  ...    ...  \n",
       "71835           NaN         NaN                    0      0  \n",
       "71836           NaN         NaN                    0      0  \n",
       "71837           NaN         NaN                    0      0  \n",
       "71838           NaN         NaN                    0      0  \n",
       "71839           NaN         NaN                    0      0  \n",
       "\n",
       "[381 rows x 11 columns]"
      ]
     },
     "execution_count": 10,
     "metadata": {},
     "output_type": "execute_result"
    }
   ],
   "source": [
    "df_nulls = df[df['download_avg'].isna()]\n",
    "print(df_nulls.shape) \n",
    "df_nulls       "
   ]
  },
  {
   "cell_type": "code",
   "execution_count": 11,
   "id": "4ffe81df",
   "metadata": {},
   "outputs": [
    {
     "name": "stdout",
     "output_type": "stream",
     "text": [
      "(0, 11)\n"
     ]
    },
    {
     "data": {
      "text/html": [
       "<div>\n",
       "<style scoped>\n",
       "    .dataframe tbody tr th:only-of-type {\n",
       "        vertical-align: middle;\n",
       "    }\n",
       "\n",
       "    .dataframe tbody tr th {\n",
       "        vertical-align: top;\n",
       "    }\n",
       "\n",
       "    .dataframe thead th {\n",
       "        text-align: right;\n",
       "    }\n",
       "</style>\n",
       "<table border=\"1\" class=\"dataframe\">\n",
       "  <thead>\n",
       "    <tr style=\"text-align: right;\">\n",
       "      <th></th>\n",
       "      <th>id</th>\n",
       "      <th>is_tv_subscriber</th>\n",
       "      <th>is_movie_package_subscriber</th>\n",
       "      <th>subscription_age</th>\n",
       "      <th>bill_avg</th>\n",
       "      <th>reamining_contract</th>\n",
       "      <th>service_failure_count</th>\n",
       "      <th>download_avg</th>\n",
       "      <th>upload_avg</th>\n",
       "      <th>download_over_limit</th>\n",
       "      <th>churn</th>\n",
       "    </tr>\n",
       "  </thead>\n",
       "  <tbody>\n",
       "  </tbody>\n",
       "</table>\n",
       "</div>"
      ],
      "text/plain": [
       "Empty DataFrame\n",
       "Columns: [id, is_tv_subscriber, is_movie_package_subscriber, subscription_age, bill_avg, reamining_contract, service_failure_count, download_avg, upload_avg, download_over_limit, churn]\n",
       "Index: []"
      ]
     },
     "execution_count": 11,
     "metadata": {},
     "output_type": "execute_result"
    }
   ],
   "source": [
    "mismatches = df[df['download_avg'].isna() != df['upload_avg'].isna()]\n",
    "print(mismatches.shape)\n",
    "mismatches.head()\n"
   ]
  },
  {
   "cell_type": "code",
   "execution_count": 12,
   "id": "7268abe6",
   "metadata": {},
   "outputs": [],
   "source": [
    "df1 = df.copy()"
   ]
  },
  {
   "cell_type": "code",
   "execution_count": null,
   "id": "9294f14a",
   "metadata": {},
   "outputs": [],
   "source": [
    "df1 = df1.rename(columns={\n",
    "    \"is_tv_subscriber\": \"tv_subscriber\",\n",
    "    \"is_movie_package_subscriber\": \"movie_package_subscriber\",\n",
    "    \"subscription_age\": \"subscription_years\",\n",
    "    \"bill_avg\": \"avg_bill_3\",\n",
    "    \"reamining_contract\": \"remaining_contract\",\n",
    "    \"service_failure_count\": \"service_failures\",\n",
    "    \"download_over_limit\": \"over_download_limit\",\n",
    "    \"download_avg\": \"download_avg_3\",\n",
    "    \"upload_avg\": \"upload_avg_3\",\n",
    "})"
   ]
  },
  {
   "cell_type": "code",
   "execution_count": 14,
   "id": "e1f1d632",
   "metadata": {},
   "outputs": [
    {
     "data": {
      "text/plain": [
       "(148, 11)"
      ]
     },
     "execution_count": 14,
     "metadata": {},
     "output_type": "execute_result"
    }
   ],
   "source": [
    "df1[(df1[\"subscription_months\"] == 0) & (df1[\"remaining_contract\"] == 0)].shape\n"
   ]
  },
  {
   "cell_type": "code",
   "execution_count": 15,
   "id": "799144a0",
   "metadata": {},
   "outputs": [
    {
     "data": {
      "text/plain": [
       "(58, 11)"
      ]
     },
     "execution_count": 15,
     "metadata": {},
     "output_type": "execute_result"
    }
   ],
   "source": [
    "df1[(df1[\"subscription_months\"] == 0) & (df1[\"remaining_contract\"] > 0)].shape\n"
   ]
  },
  {
   "cell_type": "markdown",
   "id": "a04bd996",
   "metadata": {},
   "source": [
    "here im replacing the null vals in download/upload avg with 0 if they have 0 subscription months and no churn as it may strongly indicate they are new customers \n",
    "(0 subscription months, 0 churn → they likely never used the service, so download/upload = 0 is reasonable)."
   ]
  },
  {
   "cell_type": "code",
   "execution_count": 16,
   "id": "ceeb39f9",
   "metadata": {},
   "outputs": [],
   "source": [
    "df1.loc[(df1['subscription_months']==0)& (df1['churn']==0) & (df1['download_avg'].isna()) , 'download_avg'] = 0\n",
    "df1.loc[(df1['subscription_months']==0)& (df1['churn']==0) & (df1['upload_avg'].isna())  , 'upload_avg'] = 0"
   ]
  },
  {
   "cell_type": "code",
   "execution_count": 17,
   "id": "ab981d2c",
   "metadata": {},
   "outputs": [
    {
     "data": {
      "text/plain": [
       "id                              0\n",
       "tv_subscriber                   0\n",
       "movie_package_subscriber        0\n",
       "subscription_months             0\n",
       "avg_bill                        0\n",
       "remaining_contract          21572\n",
       "service_failures                0\n",
       "download_avg                  344\n",
       "upload_avg                    344\n",
       "over_download_limit             0\n",
       "churn                           0\n",
       "dtype: int64"
      ]
     },
     "execution_count": 17,
     "metadata": {},
     "output_type": "execute_result"
    }
   ],
   "source": [
    "df1.isna().sum()"
   ]
  },
  {
   "cell_type": "code",
   "execution_count": 18,
   "id": "c0cfeb0b",
   "metadata": {},
   "outputs": [
    {
     "data": {
      "text/plain": [
       "subscription_months\n",
       "0.02     126\n",
       "0.01      74\n",
       "0.03      22\n",
       "0.04      18\n",
       "11.93      7\n",
       "        ... \n",
       "0.63       1\n",
       "0.76       1\n",
       "0.07       1\n",
       "0.23       1\n",
       "0.08       1\n",
       "Name: count, Length: 94, dtype: int64"
      ]
     },
     "execution_count": 18,
     "metadata": {},
     "output_type": "execute_result"
    }
   ],
   "source": [
    "df1.loc[df1['download_avg'].isna(), 'subscription_months'].value_counts()\n",
    "\n"
   ]
  },
  {
   "cell_type": "markdown",
   "id": "5a12bd2d",
   "metadata": {},
   "source": [
    "since theyre being billed i will Impute based on similar segment"
   ]
  },
  {
   "cell_type": "markdown",
   "id": "aafb5563",
   "metadata": {},
   "source": [
    "new customers"
   ]
  },
  {
   "cell_type": "code",
   "execution_count": 19,
   "id": "a90ca8b7",
   "metadata": {},
   "outputs": [],
   "source": [
    "df1.loc[(df1['subscription_months']<1)& (df1['churn']==0) & (df1['download_avg'].isna()) , 'download_avg'] = 0\n",
    "df1.loc[(df1['subscription_months']<1)& (df1['churn']==0) & (df1['upload_avg'].isna())  , 'upload_avg'] = 0"
   ]
  },
  {
   "cell_type": "code",
   "execution_count": 20,
   "id": "bb99396c",
   "metadata": {},
   "outputs": [
    {
     "data": {
      "text/plain": [
       "id                              0\n",
       "tv_subscriber                   0\n",
       "movie_package_subscriber        0\n",
       "subscription_months             0\n",
       "avg_bill                        0\n",
       "remaining_contract          21572\n",
       "service_failures                0\n",
       "download_avg                   91\n",
       "upload_avg                     91\n",
       "over_download_limit             0\n",
       "churn                           0\n",
       "dtype: int64"
      ]
     },
     "execution_count": 20,
     "metadata": {},
     "output_type": "execute_result"
    }
   ],
   "source": [
    "df1.isna().sum()"
   ]
  },
  {
   "cell_type": "code",
   "execution_count": 21,
   "id": "7d6dfaa9",
   "metadata": {},
   "outputs": [
    {
     "data": {
      "text/html": [
       "<div>\n",
       "<style scoped>\n",
       "    .dataframe tbody tr th:only-of-type {\n",
       "        vertical-align: middle;\n",
       "    }\n",
       "\n",
       "    .dataframe tbody tr th {\n",
       "        vertical-align: top;\n",
       "    }\n",
       "\n",
       "    .dataframe thead th {\n",
       "        text-align: right;\n",
       "    }\n",
       "</style>\n",
       "<table border=\"1\" class=\"dataframe\">\n",
       "  <thead>\n",
       "    <tr style=\"text-align: right;\">\n",
       "      <th></th>\n",
       "      <th>id</th>\n",
       "      <th>avg_bill</th>\n",
       "      <th>churn</th>\n",
       "      <th>service_failures</th>\n",
       "      <th>remaining_contract</th>\n",
       "    </tr>\n",
       "  </thead>\n",
       "  <tbody>\n",
       "    <tr>\n",
       "      <th>25</th>\n",
       "      <td>617</td>\n",
       "      <td>21</td>\n",
       "      <td>0</td>\n",
       "      <td>0</td>\n",
       "      <td>NaN</td>\n",
       "    </tr>\n",
       "    <tr>\n",
       "      <th>52</th>\n",
       "      <td>1151</td>\n",
       "      <td>24</td>\n",
       "      <td>0</td>\n",
       "      <td>0</td>\n",
       "      <td>NaN</td>\n",
       "    </tr>\n",
       "    <tr>\n",
       "      <th>54</th>\n",
       "      <td>1169</td>\n",
       "      <td>24</td>\n",
       "      <td>0</td>\n",
       "      <td>0</td>\n",
       "      <td>NaN</td>\n",
       "    </tr>\n",
       "    <tr>\n",
       "      <th>63</th>\n",
       "      <td>1413</td>\n",
       "      <td>24</td>\n",
       "      <td>0</td>\n",
       "      <td>0</td>\n",
       "      <td>NaN</td>\n",
       "    </tr>\n",
       "    <tr>\n",
       "      <th>85</th>\n",
       "      <td>1805</td>\n",
       "      <td>24</td>\n",
       "      <td>0</td>\n",
       "      <td>0</td>\n",
       "      <td>NaN</td>\n",
       "    </tr>\n",
       "    <tr>\n",
       "      <th>113</th>\n",
       "      <td>2248</td>\n",
       "      <td>25</td>\n",
       "      <td>0</td>\n",
       "      <td>0</td>\n",
       "      <td>0.4</td>\n",
       "    </tr>\n",
       "    <tr>\n",
       "      <th>132</th>\n",
       "      <td>2852</td>\n",
       "      <td>24</td>\n",
       "      <td>0</td>\n",
       "      <td>0</td>\n",
       "      <td>NaN</td>\n",
       "    </tr>\n",
       "  </tbody>\n",
       "</table>\n",
       "</div>"
      ],
      "text/plain": [
       "       id  avg_bill  churn  service_failures  remaining_contract\n",
       "25    617        21      0                 0                 NaN\n",
       "52   1151        24      0                 0                 NaN\n",
       "54   1169        24      0                 0                 NaN\n",
       "63   1413        24      0                 0                 NaN\n",
       "85   1805        24      0                 0                 NaN\n",
       "113  2248        25      0                 0                 0.4\n",
       "132  2852        24      0                 0                 NaN"
      ]
     },
     "execution_count": 21,
     "metadata": {},
     "output_type": "execute_result"
    }
   ],
   "source": [
    "df1.loc[\n",
    "    (df1['subscription_months'] == 11.93) &\n",
    "    (df1['download_avg'].isna()) &\n",
    "    (df1['upload_avg'].isna()),\n",
    "    ['id', 'avg_bill', 'churn', 'service_failures', 'remaining_contract']\n",
    "]\n"
   ]
  },
  {
   "cell_type": "code",
   "execution_count": 22,
   "id": "38164395",
   "metadata": {},
   "outputs": [
    {
     "data": {
      "text/plain": [
       "subscription_months\n",
       "11.93    7\n",
       "11.92    6\n",
       "2.35     2\n",
       "6.13     2\n",
       "10.92    1\n",
       "        ..\n",
       "1.18     1\n",
       "1.17     1\n",
       "1.07     1\n",
       "1.05     1\n",
       "1.02     1\n",
       "Name: count, Length: 78, dtype: int64"
      ]
     },
     "execution_count": 22,
     "metadata": {},
     "output_type": "execute_result"
    }
   ],
   "source": [
    "df1.loc[df1['download_avg'].isna(), 'subscription_months'].value_counts()"
   ]
  },
  {
   "cell_type": "code",
   "execution_count": 24,
   "id": "03ba3a00",
   "metadata": {},
   "outputs": [
    {
     "data": {
      "image/png": "[encoded data removed]",
      "text/plain": [
       "<Figure size 640x480 with 1 Axes>"
      ]
     },
     "metadata": {},
     "output_type": "display_data"
    },
    {
     "name": "stdout",
     "output_type": "stream",
     "text": [
      "count    72274.000000\n",
      "mean        18.942483\n",
      "std         13.215386\n",
      "min          0.000000\n",
      "25%         13.000000\n",
      "50%         19.000000\n",
      "75%         22.000000\n",
      "max        406.000000\n",
      "Name: avg_bill, dtype: float64\n"
     ]
    }
   ],
   "source": [
    "\n",
    "sns.histplot(df1['avg_bill'], kde=True)\n",
    "plt.show()\n",
    "\n",
    "print(df1['avg_bill'].describe())"
   ]
  },
  {
   "cell_type": "code",
   "execution_count": null,
   "id": "165c9135",
   "metadata": {},
   "outputs": [
    {
     "data": {
      "text/html": [
       "<div>\n",
       "<style scoped>\n",
       "    .dataframe tbody tr th:only-of-type {\n",
       "        vertical-align: middle;\n",
       "    }\n",
       "\n",
       "    .dataframe tbody tr th {\n",
       "        vertical-align: top;\n",
       "    }\n",
       "\n",
       "    .dataframe thead th {\n",
       "        text-align: right;\n",
       "    }\n",
       "</style>\n",
       "<table border=\"1\" class=\"dataframe\">\n",
       "  <thead>\n",
       "    <tr style=\"text-align: right;\">\n",
       "      <th></th>\n",
       "      <th>id</th>\n",
       "      <th>tv_subscriber</th>\n",
       "      <th>movie_package_subscriber</th>\n",
       "      <th>subscription_months</th>\n",
       "      <th>avg_bill</th>\n",
       "      <th>remaining_contract</th>\n",
       "      <th>service_failures</th>\n",
       "      <th>download_avg</th>\n",
       "      <th>upload_avg</th>\n",
       "      <th>over_download_limit</th>\n",
       "      <th>churn</th>\n",
       "    </tr>\n",
       "  </thead>\n",
       "  <tbody>\n",
       "    <tr>\n",
       "      <th>17</th>\n",
       "      <td>417</td>\n",
       "      <td>0</td>\n",
       "      <td>0</td>\n",
       "      <td>6.45</td>\n",
       "      <td>40</td>\n",
       "      <td>NaN</td>\n",
       "      <td>0</td>\n",
       "      <td>0.0</td>\n",
       "      <td>0.0</td>\n",
       "      <td>0</td>\n",
       "      <td>1</td>\n",
       "    </tr>\n",
       "    <tr>\n",
       "      <th>19</th>\n",
       "      <td>507</td>\n",
       "      <td>1</td>\n",
       "      <td>1</td>\n",
       "      <td>11.93</td>\n",
       "      <td>65</td>\n",
       "      <td>0.21</td>\n",
       "      <td>0</td>\n",
       "      <td>116.8</td>\n",
       "      <td>12.1</td>\n",
       "      <td>0</td>\n",
       "      <td>0</td>\n",
       "    </tr>\n",
       "    <tr>\n",
       "      <th>23</th>\n",
       "      <td>600</td>\n",
       "      <td>0</td>\n",
       "      <td>0</td>\n",
       "      <td>11.93</td>\n",
       "      <td>41</td>\n",
       "      <td>NaN</td>\n",
       "      <td>0</td>\n",
       "      <td>24.1</td>\n",
       "      <td>3.2</td>\n",
       "      <td>0</td>\n",
       "      <td>0</td>\n",
       "    </tr>\n",
       "    <tr>\n",
       "      <th>29</th>\n",
       "      <td>682</td>\n",
       "      <td>1</td>\n",
       "      <td>0</td>\n",
       "      <td>10.93</td>\n",
       "      <td>63</td>\n",
       "      <td>0.00</td>\n",
       "      <td>0</td>\n",
       "      <td>38.1</td>\n",
       "      <td>7.9</td>\n",
       "      <td>0</td>\n",
       "      <td>1</td>\n",
       "    </tr>\n",
       "    <tr>\n",
       "      <th>31</th>\n",
       "      <td>696</td>\n",
       "      <td>0</td>\n",
       "      <td>0</td>\n",
       "      <td>9.22</td>\n",
       "      <td>80</td>\n",
       "      <td>NaN</td>\n",
       "      <td>0</td>\n",
       "      <td>235.0</td>\n",
       "      <td>6.0</td>\n",
       "      <td>0</td>\n",
       "      <td>1</td>\n",
       "    </tr>\n",
       "  </tbody>\n",
       "</table>\n",
       "</div>"
      ],
      "text/plain": [
       "     id  tv_subscriber  movie_package_subscriber  subscription_months  \\\n",
       "17  417              0                         0                 6.45   \n",
       "19  507              1                         1                11.93   \n",
       "23  600              0                         0                11.93   \n",
       "29  682              1                         0                10.93   \n",
       "31  696              0                         0                 9.22   \n",
       "\n",
       "    avg_bill  remaining_contract  service_failures  download_avg  upload_avg  \\\n",
       "17        40                 NaN                 0           0.0         0.0   \n",
       "19        65                0.21                 0         116.8        12.1   \n",
       "23        41                 NaN                 0          24.1         3.2   \n",
       "29        63                0.00                 0          38.1         7.9   \n",
       "31        80                 NaN                 0         235.0         6.0   \n",
       "\n",
       "    over_download_limit  churn  \n",
       "17                    0      1  \n",
       "19                    0      0  \n",
       "23                    0      0  \n",
       "29                    0      1  \n",
       "31                    0      1  "
      ]
     },
     "execution_count": 26,
     "metadata": {},
     "output_type": "execute_result"
    }
   ],
   "source": [
    "Q1 = df1['avg_bill'].quantile(0.25)\n",
    "Q3 = df1['avg_bill'].quantile(0.75)\n",
    "IQR = Q3 - Q1\n",
    "\n",
    "lower_bound = Q1 - 1.5 * IQR\n",
    "upper_bound = Q3 + 1.5 * IQR\n",
    "\n",
    "outliers = df1[(df1['avg_bill'] < lower_bound) | (df1['avg_bill'] > upper_bound)]\n",
    "outliers.head() "
   ]
  },
  {
   "cell_type": "markdown",
   "id": "0f20e71d",
   "metadata": {},
   "source": [
    "creating new feature - bill_per_month - "
   ]
  },
  {
   "cell_type": "code",
   "execution_count": 27,
   "id": "56990715",
   "metadata": {},
   "outputs": [],
   "source": [
    "df1['bill_per_month'] = df1['avg_bill'] / df1['subscription_months']"
   ]
  },
  {
   "cell_type": "code",
   "execution_count": 28,
   "id": "24a71aee",
   "metadata": {},
   "outputs": [
    {
     "data": {
      "text/plain": [
       "0    2.092050\n",
       "1    0.000000\n",
       "2    1.795735\n",
       "3    3.056769\n",
       "4    0.000000\n",
       "Name: bill_per_month, dtype: float64"
      ]
     },
     "execution_count": 28,
     "metadata": {},
     "output_type": "execute_result"
    }
   ],
   "source": [
    "df1['bill_per_month'].head()"
   ]
  },
  {
   "cell_type": "code",
   "execution_count": 29,
   "id": "de3d43a6",
   "metadata": {},
   "outputs": [
    {
     "name": "stdout",
     "output_type": "stream",
     "text": [
      "[ 25   0  16  21  32  18  14  17  10  23  22  40  65  24  41  20  13  63\n",
      "   9  80  54  33 129  45  79  39  37  56  12  69  46  50  15  53  30  11\n",
      "   8   7  59  29  34   5  48  42  19  31   1 162  66  26  35  71  75  43\n",
      "   6  57   3  38  27   2  98  36  28  55  44  76   4  73  64  49  51  81\n",
      "  52 126  61  47 406 103  74  89  58  60 150  72  77 112 116  78  67 121\n",
      "  68 139  62 147  70 130 151 118 160 106 148 210 113 122 163 157 142 104\n",
      " 285 128 138 108 146 141 111 119 145 140 143 123 136 102 134  85  86 144\n",
      " 137  94 301 115 109 105 325  90  97 154 132 159 107 131  92 188 206 209\n",
      " 125  99 110 161 120 198 114  84 221  95 164 135  88  87 127  83  96 101\n",
      " 217 386  91 245 100 278 372 191 133 269 237 207 266 231 156 213 174]\n"
     ]
    }
   ],
   "source": [
    "unique_bills = df['bill_avg'].unique()\n",
    "\n",
    "print(unique_bills)"
   ]
  },
  {
   "cell_type": "code",
   "execution_count": null,
   "id": "c761ceee",
   "metadata": {},
   "outputs": [],
   "source": [
    "\n",
    "df1['download_avg'] = df1.groupby(['subscription_months', 'avg_bill'])['download_avg']\\\n",
    "    .transform(lambda x: x.fillna(x.median()))\n",
    "df1['upload_avg'] = df1.groupby(['subscription_months', 'avg_bill'])['upload_avg']\\\n",
    "    .transform(lambda x: x.fillna(x.median()))"
   ]
  },
  {
   "cell_type": "code",
   "execution_count": null,
   "id": "17caef3b",
   "metadata": {},
   "outputs": [],
   "source": []
  }
 ],
 "metadata": {
  "kernelspec": {
   "display_name": "venv",
   "language": "python",
   "name": "python3"
  },
  "language_info": {
   "codemirror_mode": {
    "name": "ipython",
    "version": 3
   },
   "file_extension": ".py",
   "mimetype": "text/x-python",
   "name": "python",
   "nbconvert_exporter": "python",
   "pygments_lexer": "ipython3",
   "version": "3.13.5"
  }
 },
 "nbformat": 4,
 "nbformat_minor": 5
}
